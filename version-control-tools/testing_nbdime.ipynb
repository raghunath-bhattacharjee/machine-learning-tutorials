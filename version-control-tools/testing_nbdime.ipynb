{
 "cells": [
  {
   "cell_type": "markdown",
   "id": "023704c7",
   "metadata": {},
   "source": [
    "### Notebook to Test Nbdime"
   ]
  },
  {
   "cell_type": "code",
   "execution_count": null,
   "id": "59ef8453",
   "metadata": {},
   "outputs": [],
   "source": [
    "import pandas as pd\n",
    "from sklearn.datasets import load_boston\n",
    "from sklearn.ensemble import GradientBoostingRegressor\n",
    "from sklearn.metrics import mean_squared_error\n",
    "#from yellowbrick.regressor import ResidualsPlot"
   ]
  },
  {
   "cell_type": "code",
   "execution_count": null,
   "id": "5f2905a5",
   "metadata": {},
   "outputs": [],
   "source": [
    "X,y = load_boston(return_X_y=True)\n",
    "\n",
    "X_train, X_test, y_train, y_test = train_test_split(X, y, random_state=0)\n",
    "\n",
    "gbr = GradientBoostingRegressor()\n",
    "gbr_model = gbr.fit(X_train, y_train)\n",
    "y_pred = gbr_model.predict(X_test)"
   ]
  },
  {
   "cell_type": "code",
   "execution_count": null,
   "id": "5b3f116a",
   "metadata": {},
   "outputs": [],
   "source": [
    "print('Mean squared error: %.2f'\n",
    "      % mean_squared_error(y_test, y_pred))"
   ]
  },
  {
   "cell_type": "code",
   "execution_count": null,
   "id": "4be5d5aa",
   "metadata": {},
   "outputs": [],
   "source": [
    "#visualizer = ResidualsPlot(gbr_model, hist=False)\n",
    "\n",
    "#visualizer.fit(X_train, y_train)        \n",
    "#visualizer.score(X_test, y_test)        \n",
    "#visualizer.show()                       "
   ]
  },
  {
   "cell_type": "code",
   "execution_count": null,
   "id": "de4af06d",
   "metadata": {},
   "outputs": [],
   "source": []
  }
 ],
 "metadata": {
  "kernelspec": {
   "display_name": "Python 3",
   "language": "python",
   "name": "python3"
  },
  "language_info": {
   "codemirror_mode": {
    "name": "ipython",
    "version": 3
   },
   "file_extension": ".py",
   "mimetype": "text/x-python",
   "name": "python",
   "nbconvert_exporter": "python",
   "pygments_lexer": "ipython3",
   "version": "3.7.5"
  }
 },
 "nbformat": 4,
 "nbformat_minor": 5
}
