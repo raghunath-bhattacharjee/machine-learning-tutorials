{
 "cells": [
  {
   "cell_type": "code",
   "execution_count": 1,
   "metadata": {},
   "outputs": [],
   "source": [
    "import pandas as pd\n",
    "import numpy as np\n",
    "from sklearn.datasets import fetch_openml\n",
    "\n",
    "import tensorflow as tf\n",
    "\n",
    "from tensorflow import feature_column\n",
    "from tensorflow.keras import layers\n",
    "from sklearn.model_selection import train_test_split"
   ]
  },
  {
   "cell_type": "code",
   "execution_count": 2,
   "metadata": {},
   "outputs": [
    {
     "data": {
      "text/html": [
       "<div>\n",
       "<style scoped>\n",
       "    .dataframe tbody tr th:only-of-type {\n",
       "        vertical-align: middle;\n",
       "    }\n",
       "\n",
       "    .dataframe tbody tr th {\n",
       "        vertical-align: top;\n",
       "    }\n",
       "\n",
       "    .dataframe thead th {\n",
       "        text-align: right;\n",
       "    }\n",
       "</style>\n",
       "<table border=\"1\" class=\"dataframe\">\n",
       "  <thead>\n",
       "    <tr style=\"text-align: right;\">\n",
       "      <th></th>\n",
       "      <th>checking_status</th>\n",
       "      <th>duration</th>\n",
       "      <th>credit_history</th>\n",
       "      <th>purpose</th>\n",
       "      <th>credit_amount</th>\n",
       "      <th>savings_status</th>\n",
       "      <th>employment</th>\n",
       "      <th>installment_commitment</th>\n",
       "      <th>personal_status</th>\n",
       "      <th>other_parties</th>\n",
       "      <th>...</th>\n",
       "      <th>property_magnitude</th>\n",
       "      <th>age</th>\n",
       "      <th>other_payment_plans</th>\n",
       "      <th>housing</th>\n",
       "      <th>existing_credits</th>\n",
       "      <th>job</th>\n",
       "      <th>num_dependents</th>\n",
       "      <th>own_telephone</th>\n",
       "      <th>foreign_worker</th>\n",
       "      <th>target</th>\n",
       "    </tr>\n",
       "  </thead>\n",
       "  <tbody>\n",
       "    <tr>\n",
       "      <th>0</th>\n",
       "      <td>&lt;0</td>\n",
       "      <td>6.0</td>\n",
       "      <td>critical/other existing credit</td>\n",
       "      <td>radio/tv</td>\n",
       "      <td>1169.0</td>\n",
       "      <td>no known savings</td>\n",
       "      <td>&gt;=7</td>\n",
       "      <td>4.0</td>\n",
       "      <td>male single</td>\n",
       "      <td>none</td>\n",
       "      <td>...</td>\n",
       "      <td>real estate</td>\n",
       "      <td>67.0</td>\n",
       "      <td>none</td>\n",
       "      <td>own</td>\n",
       "      <td>2.0</td>\n",
       "      <td>skilled</td>\n",
       "      <td>1.0</td>\n",
       "      <td>yes</td>\n",
       "      <td>yes</td>\n",
       "      <td>1</td>\n",
       "    </tr>\n",
       "    <tr>\n",
       "      <th>1</th>\n",
       "      <td>0&lt;=X&lt;200</td>\n",
       "      <td>48.0</td>\n",
       "      <td>existing paid</td>\n",
       "      <td>radio/tv</td>\n",
       "      <td>5951.0</td>\n",
       "      <td>&lt;100</td>\n",
       "      <td>1&lt;=X&lt;4</td>\n",
       "      <td>2.0</td>\n",
       "      <td>female div/dep/mar</td>\n",
       "      <td>none</td>\n",
       "      <td>...</td>\n",
       "      <td>real estate</td>\n",
       "      <td>22.0</td>\n",
       "      <td>none</td>\n",
       "      <td>own</td>\n",
       "      <td>1.0</td>\n",
       "      <td>skilled</td>\n",
       "      <td>1.0</td>\n",
       "      <td>none</td>\n",
       "      <td>yes</td>\n",
       "      <td>0</td>\n",
       "    </tr>\n",
       "    <tr>\n",
       "      <th>2</th>\n",
       "      <td>no checking</td>\n",
       "      <td>12.0</td>\n",
       "      <td>critical/other existing credit</td>\n",
       "      <td>education</td>\n",
       "      <td>2096.0</td>\n",
       "      <td>&lt;100</td>\n",
       "      <td>4&lt;=X&lt;7</td>\n",
       "      <td>2.0</td>\n",
       "      <td>male single</td>\n",
       "      <td>none</td>\n",
       "      <td>...</td>\n",
       "      <td>real estate</td>\n",
       "      <td>49.0</td>\n",
       "      <td>none</td>\n",
       "      <td>own</td>\n",
       "      <td>1.0</td>\n",
       "      <td>unskilled resident</td>\n",
       "      <td>2.0</td>\n",
       "      <td>none</td>\n",
       "      <td>yes</td>\n",
       "      <td>1</td>\n",
       "    </tr>\n",
       "    <tr>\n",
       "      <th>3</th>\n",
       "      <td>&lt;0</td>\n",
       "      <td>42.0</td>\n",
       "      <td>existing paid</td>\n",
       "      <td>furniture/equipment</td>\n",
       "      <td>7882.0</td>\n",
       "      <td>&lt;100</td>\n",
       "      <td>4&lt;=X&lt;7</td>\n",
       "      <td>2.0</td>\n",
       "      <td>male single</td>\n",
       "      <td>guarantor</td>\n",
       "      <td>...</td>\n",
       "      <td>life insurance</td>\n",
       "      <td>45.0</td>\n",
       "      <td>none</td>\n",
       "      <td>for free</td>\n",
       "      <td>1.0</td>\n",
       "      <td>skilled</td>\n",
       "      <td>2.0</td>\n",
       "      <td>none</td>\n",
       "      <td>yes</td>\n",
       "      <td>1</td>\n",
       "    </tr>\n",
       "    <tr>\n",
       "      <th>4</th>\n",
       "      <td>&lt;0</td>\n",
       "      <td>24.0</td>\n",
       "      <td>delayed previously</td>\n",
       "      <td>new car</td>\n",
       "      <td>4870.0</td>\n",
       "      <td>&lt;100</td>\n",
       "      <td>1&lt;=X&lt;4</td>\n",
       "      <td>3.0</td>\n",
       "      <td>male single</td>\n",
       "      <td>none</td>\n",
       "      <td>...</td>\n",
       "      <td>no known property</td>\n",
       "      <td>53.0</td>\n",
       "      <td>none</td>\n",
       "      <td>for free</td>\n",
       "      <td>2.0</td>\n",
       "      <td>skilled</td>\n",
       "      <td>2.0</td>\n",
       "      <td>none</td>\n",
       "      <td>yes</td>\n",
       "      <td>0</td>\n",
       "    </tr>\n",
       "  </tbody>\n",
       "</table>\n",
       "<p>5 rows × 21 columns</p>\n",
       "</div>"
      ],
      "text/plain": [
       "  checking_status  duration                  credit_history  \\\n",
       "0              <0       6.0  critical/other existing credit   \n",
       "1        0<=X<200      48.0                   existing paid   \n",
       "2     no checking      12.0  critical/other existing credit   \n",
       "3              <0      42.0                   existing paid   \n",
       "4              <0      24.0              delayed previously   \n",
       "\n",
       "               purpose  credit_amount    savings_status employment  \\\n",
       "0             radio/tv         1169.0  no known savings        >=7   \n",
       "1             radio/tv         5951.0              <100     1<=X<4   \n",
       "2            education         2096.0              <100     4<=X<7   \n",
       "3  furniture/equipment         7882.0              <100     4<=X<7   \n",
       "4              new car         4870.0              <100     1<=X<4   \n",
       "\n",
       "   installment_commitment     personal_status other_parties  ...  \\\n",
       "0                     4.0         male single          none  ...   \n",
       "1                     2.0  female div/dep/mar          none  ...   \n",
       "2                     2.0         male single          none  ...   \n",
       "3                     2.0         male single     guarantor  ...   \n",
       "4                     3.0         male single          none  ...   \n",
       "\n",
       "   property_magnitude   age  other_payment_plans   housing existing_credits  \\\n",
       "0         real estate  67.0                 none       own              2.0   \n",
       "1         real estate  22.0                 none       own              1.0   \n",
       "2         real estate  49.0                 none       own              1.0   \n",
       "3      life insurance  45.0                 none  for free              1.0   \n",
       "4   no known property  53.0                 none  for free              2.0   \n",
       "\n",
       "                  job num_dependents  own_telephone foreign_worker target  \n",
       "0             skilled            1.0            yes            yes      1  \n",
       "1             skilled            1.0           none            yes      0  \n",
       "2  unskilled resident            2.0           none            yes      1  \n",
       "3             skilled            2.0           none            yes      1  \n",
       "4             skilled            2.0           none            yes      0  \n",
       "\n",
       "[5 rows x 21 columns]"
      ]
     },
     "execution_count": 2,
     "metadata": {},
     "output_type": "execute_result"
    }
   ],
   "source": [
    "X,y = fetch_openml(\"credit-g\", version=1, as_frame=True, return_X_y=True)\n",
    "data = pd.concat([X,y], axis=1)\n",
    "data['target'] = np.where(data['class'] == 'good', 1,0)\n",
    "data = data.drop('class', axis=1)\n",
    "data.head()"
   ]
  },
  {
   "cell_type": "code",
   "execution_count": 3,
   "metadata": {},
   "outputs": [
    {
     "data": {
      "text/plain": [
       "Index(['checking_status', 'duration', 'credit_history', 'purpose',\n",
       "       'credit_amount', 'savings_status', 'employment',\n",
       "       'installment_commitment', 'personal_status', 'other_parties',\n",
       "       'residence_since', 'property_magnitude', 'age', 'other_payment_plans',\n",
       "       'housing', 'existing_credits', 'job', 'num_dependents', 'own_telephone',\n",
       "       'foreign_worker', 'target'],\n",
       "      dtype='object')"
      ]
     },
     "execution_count": 3,
     "metadata": {},
     "output_type": "execute_result"
    }
   ],
   "source": [
    "data.columns"
   ]
  },
  {
   "cell_type": "code",
   "execution_count": 255,
   "metadata": {},
   "outputs": [
    {
     "data": {
      "text/plain": [
       "checking_status            object\n",
       "duration                  float64\n",
       "credit_history             object\n",
       "purpose                    object\n",
       "credit_amount             float64\n",
       "savings_status             object\n",
       "employment                 object\n",
       "installment_commitment    float64\n",
       "personal_status            object\n",
       "other_parties              object\n",
       "residence_since           float64\n",
       "property_magnitude         object\n",
       "age                       float64\n",
       "other_payment_plans        object\n",
       "housing                    object\n",
       "existing_credits          float64\n",
       "job                        object\n",
       "num_dependents            float64\n",
       "own_telephone              object\n",
       "foreign_worker             object\n",
       "target                      int64\n",
       "dtype: object"
      ]
     },
     "execution_count": 255,
     "metadata": {},
     "output_type": "execute_result"
    }
   ],
   "source": [
    "# Change category dtypes to object so that Tensorflow will recognise the type\n",
    "categorical_features = data.select_dtypes(include=['category']).columns\n",
    "\n",
    "for col in categorical_features:\n",
    "    data[col] = data[col].astype('object')\n",
    "\n",
    "data.dtypes"
   ]
  },
  {
   "cell_type": "code",
   "execution_count": 256,
   "metadata": {},
   "outputs": [],
   "source": [
    "numeric_features = train.select_dtypes(include=['int64', 'float64']).drop('target', axis=1).columns\n",
    "categorical_features = train.select_dtypes(include=['object']).columns"
   ]
  },
  {
   "cell_type": "code",
   "execution_count": 257,
   "metadata": {},
   "outputs": [
    {
     "data": {
      "text/plain": [
       "checking_status         4\n",
       "credit_history          5\n",
       "purpose                10\n",
       "savings_status          5\n",
       "employment              5\n",
       "personal_status         4\n",
       "other_parties           3\n",
       "property_magnitude      4\n",
       "other_payment_plans     3\n",
       "housing                 3\n",
       "job                     4\n",
       "own_telephone           2\n",
       "foreign_worker          2\n",
       "dtype: int64"
      ]
     },
     "execution_count": 257,
     "metadata": {},
     "output_type": "execute_result"
    }
   ],
   "source": [
    "data[categorical_features].nunique()"
   ]
  },
  {
   "cell_type": "code",
   "execution_count": 258,
   "metadata": {},
   "outputs": [
    {
     "data": {
      "text/plain": [
       "checking_status            object\n",
       "duration                  float64\n",
       "credit_history             object\n",
       "purpose                    object\n",
       "credit_amount             float64\n",
       "savings_status             object\n",
       "employment                 object\n",
       "installment_commitment    float64\n",
       "personal_status            object\n",
       "other_parties              object\n",
       "residence_since           float64\n",
       "property_magnitude         object\n",
       "age                       float64\n",
       "other_payment_plans        object\n",
       "housing                    object\n",
       "existing_credits          float64\n",
       "job                        object\n",
       "num_dependents            float64\n",
       "own_telephone              object\n",
       "foreign_worker             object\n",
       "target                      int64\n",
       "dtype: object"
      ]
     },
     "execution_count": 258,
     "metadata": {},
     "output_type": "execute_result"
    }
   ],
   "source": [
    "data.dtypes"
   ]
  },
  {
   "cell_type": "code",
   "execution_count": 259,
   "metadata": {},
   "outputs": [
    {
     "data": {
      "text/plain": [
       "male single           548\n",
       "female div/dep/mar    310\n",
       "male mar/wid           92\n",
       "male div/sep           50\n",
       "Name: personal_status, dtype: int64"
      ]
     },
     "execution_count": 259,
     "metadata": {},
     "output_type": "execute_result"
    }
   ],
   "source": [
    "data['personal_status'].value_counts()"
   ]
  },
  {
   "cell_type": "code",
   "execution_count": 260,
   "metadata": {},
   "outputs": [
    {
     "name": "stdout",
     "output_type": "stream",
     "text": [
      "Train data size: 803\n",
      "Test data size: 197\n",
      "Validation data size: 154\n"
     ]
    }
   ],
   "source": [
    "msk = np.random.rand(len(data)) < 0.8\n",
    "train = data[msk]\n",
    "test = data[~msk]\n",
    "msk_train = np.random.rand(len(train)) < 0.8\n",
    "validation = train[~msk_train]\n",
    "\n",
    "print(\"Train data size:\", len(train))\n",
    "print(\"Test data size:\", len(test))\n",
    "print(\"Validation data size:\", len(validation))\n"
   ]
  },
  {
   "cell_type": "code",
   "execution_count": 261,
   "metadata": {},
   "outputs": [
    {
     "data": {
      "text/plain": [
       "Index(['checking_status', 'duration', 'credit_history', 'purpose',\n",
       "       'credit_amount', 'savings_status', 'employment',\n",
       "       'installment_commitment', 'personal_status', 'other_parties',\n",
       "       'residence_since', 'property_magnitude', 'age', 'other_payment_plans',\n",
       "       'housing', 'existing_credits', 'job', 'num_dependents', 'own_telephone',\n",
       "       'foreign_worker', 'target'],\n",
       "      dtype='object')"
      ]
     },
     "execution_count": 261,
     "metadata": {},
     "output_type": "execute_result"
    }
   ],
   "source": [
    "test.columns"
   ]
  },
  {
   "cell_type": "code",
   "execution_count": 262,
   "metadata": {},
   "outputs": [
    {
     "data": {
      "text/plain": [
       "Index(['checking_status', 'duration', 'credit_history', 'purpose',\n",
       "       'credit_amount', 'savings_status', 'employment',\n",
       "       'installment_commitment', 'personal_status', 'other_parties',\n",
       "       'residence_since', 'property_magnitude', 'age', 'other_payment_plans',\n",
       "       'housing', 'existing_credits', 'job', 'num_dependents', 'own_telephone',\n",
       "       'foreign_worker', 'target'],\n",
       "      dtype='object')"
      ]
     },
     "execution_count": 262,
     "metadata": {},
     "output_type": "execute_result"
    }
   ],
   "source": [
    "validation.columns"
   ]
  },
  {
   "cell_type": "code",
   "execution_count": 263,
   "metadata": {},
   "outputs": [],
   "source": [
    "def df_to_dataset(dataframe, shuffle=True, batch_size=32):\n",
    "  dataframe = dataframe.copy()\n",
    "  labels = dataframe.pop('target')\n",
    "  ds = tf.data.Dataset.from_tensor_slices((dict(dataframe), labels))\n",
    "  if shuffle:\n",
    "    ds = ds.shuffle(buffer_size=len(dataframe))\n",
    "  ds = ds.batch(batch_size)\n",
    "  return ds"
   ]
  },
  {
   "cell_type": "code",
   "execution_count": 264,
   "metadata": {},
   "outputs": [],
   "source": [
    "batch_size = 32 \n",
    "train_ds = df_to_dataset(train, batch_size=batch_size)\n",
    "validation_ds = df_to_dataset(validation, shuffle=False, batch_size=batch_size)\n",
    "test_ds = df_to_dataset(test, shuffle=False, batch_size=batch_size)"
   ]
  },
  {
   "cell_type": "code",
   "execution_count": 265,
   "metadata": {},
   "outputs": [
    {
     "data": {
      "text/plain": [
       "array(['skilled', 'unskilled resident', 'high qualif/self emp/mgmt',\n",
       "       'unemp/unskilled non res'], dtype=object)"
      ]
     },
     "execution_count": 265,
     "metadata": {},
     "output_type": "execute_result"
    }
   ],
   "source": [
    "train['job'].unique()"
   ]
  },
  {
   "cell_type": "code",
   "execution_count": 266,
   "metadata": {},
   "outputs": [
    {
     "data": {
      "text/plain": [
       "Index(['duration', 'credit_amount', 'installment_commitment',\n",
       "       'residence_since', 'age', 'existing_credits', 'num_dependents'],\n",
       "      dtype='object')"
      ]
     },
     "execution_count": 266,
     "metadata": {},
     "output_type": "execute_result"
    }
   ],
   "source": [
    "numeric_features"
   ]
  },
  {
   "cell_type": "code",
   "execution_count": 267,
   "metadata": {},
   "outputs": [],
   "source": [
    "feature_columns = []"
   ]
  },
  {
   "cell_type": "code",
   "execution_count": 268,
   "metadata": {},
   "outputs": [],
   "source": [
    "# Creating one hot encoded feature columns\n",
    "\n",
    "#cat_cols_list = []\n",
    "\n",
    "for column in categorical_features:\n",
    "    column = feature_column.categorical_column_with_vocabulary_list(\n",
    "        column, data[column].unique().tolist())\n",
    "    column = feature_column.indicator_column(column)\n",
    "    feature_columns.append(column)\n"
   ]
  },
  {
   "cell_type": "code",
   "execution_count": 269,
   "metadata": {},
   "outputs": [],
   "source": [
    "# Creating age buckets\n",
    "age = feature_column.numeric_column(\"age\")\n",
    "age_buckets = feature_column.bucketized_column(age, boundaries=[18, 25, 30, 35, 40, 45, 50, 55, 60, 65])\n",
    "feature_columns.append(age_buckets)"
   ]
  },
  {
   "cell_type": "code",
   "execution_count": 270,
   "metadata": {},
   "outputs": [],
   "source": [
    "# Remaining numeric features\n",
    "remaining_numeric = train.select_dtypes(include=['int64', 'float64']).drop(['age', 'target'], axis=1).columns.tolist()\n",
    "\n",
    "#remaining_numeric_cols = []\n",
    "\n",
    "for column in remaining_numeric:\n",
    "    column = feature_column.numeric_column(column)\n",
    "    feature_columns.append(column)"
   ]
  },
  {
   "cell_type": "code",
   "execution_count": 271,
   "metadata": {},
   "outputs": [],
   "source": [
    "# feature layer\n",
    "\n",
    "feature_layer = tf.keras.layers.DenseFeatures(feature_columns)"
   ]
  },
  {
   "cell_type": "code",
   "execution_count": 280,
   "metadata": {},
   "outputs": [
    {
     "name": "stdout",
     "output_type": "stream",
     "text": [
      "Epoch 1/5\n",
      "26/26 [==============================] - 0s 16ms/step - loss: 65.0666 - accuracy: 0.5479 - val_loss: 6.3727 - val_accuracy: 0.7403\n",
      "Epoch 2/5\n",
      "26/26 [==============================] - 0s 2ms/step - loss: 5.3843 - accuracy: 0.5579 - val_loss: 0.7484 - val_accuracy: 0.7403\n",
      "Epoch 3/5\n",
      "26/26 [==============================] - 0s 2ms/step - loss: 5.0246 - accuracy: 0.5567 - val_loss: 0.7027 - val_accuracy: 0.7403\n",
      "Epoch 4/5\n",
      "26/26 [==============================] - 0s 2ms/step - loss: 7.5571 - accuracy: 0.5679 - val_loss: 9.3581 - val_accuracy: 0.7403\n",
      "Epoch 5/5\n",
      "26/26 [==============================] - 0s 3ms/step - loss: 14.8491 - accuracy: 0.6065 - val_loss: 5.3144 - val_accuracy: 0.7403\n"
     ]
    },
    {
     "data": {
      "text/plain": [
       "<tensorflow.python.keras.callbacks.History at 0x1379fad50>"
      ]
     },
     "execution_count": 280,
     "metadata": {},
     "output_type": "execute_result"
    }
   ],
   "source": [
    "model = tf.keras.Sequential([\n",
    "  feature_layer,\n",
    "  layers.Dense(128, activation='relu'),\n",
    "  layers.Dense(128, activation='relu'),\n",
    "  layers.Dense(1)\n",
    "])\n",
    "\n",
    "model.compile(optimizer='adam',\n",
    "              loss=tf.keras.losses.BinaryCrossentropy(from_logits=True),\n",
    "              metrics=['accuracy'])\n",
    "\n",
    "model.fit(train_ds,\n",
    "          validation_data=validation_ds,\n",
    "          epochs=5)"
   ]
  },
  {
   "cell_type": "code",
   "execution_count": null,
   "metadata": {},
   "outputs": [],
   "source": []
  }
 ],
 "metadata": {
  "kernelspec": {
   "display_name": "Python (ML Tutorials)",
   "language": "python",
   "name": "machine-learning-tutorials"
  },
  "language_info": {
   "codemirror_mode": {
    "name": "ipython",
    "version": 3
   },
   "file_extension": ".py",
   "mimetype": "text/x-python",
   "name": "python",
   "nbconvert_exporter": "python",
   "pygments_lexer": "ipython3",
   "version": "3.7.4"
  }
 },
 "nbformat": 4,
 "nbformat_minor": 4
}
