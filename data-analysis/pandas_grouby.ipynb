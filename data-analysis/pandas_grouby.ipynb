{
 "cells": [
  {
   "cell_type": "code",
   "execution_count": null,
   "id": "bbd803e3",
   "metadata": {},
   "outputs": [],
   "source": [
    "import pandas as pd\n",
    "\n",
    "pd.set_option('display.max_columns', None) \n",
    "pd.set_option('display.float_format', lambda x: '%.2f' % x)"
   ]
  },
  {
   "cell_type": "code",
   "execution_count": null,
   "id": "1cdeddd5",
   "metadata": {},
   "outputs": [],
   "source": [
    "from sklearn.datasets import fetch_openml \n",
    "\n",
    "X,y = fetch_openml(name='credit-g', as_frame=True, return_X_y=True)\n",
    "df = X\n",
    "df['target'] = y\n",
    "df.head()"
   ]
  },
  {
   "cell_type": "code",
   "execution_count": null,
   "id": "8834bc38",
   "metadata": {},
   "outputs": [],
   "source": [
    "df.dtypes"
   ]
  },
  {
   "cell_type": "code",
   "execution_count": null,
   "id": "90bc3aa3",
   "metadata": {},
   "outputs": [],
   "source": [
    "df.groupby(['job']).mean()"
   ]
  },
  {
   "cell_type": "code",
   "execution_count": null,
   "id": "dc156a69",
   "metadata": {},
   "outputs": [],
   "source": [
    "df[['job', 'credit_amount', 'age']].groupby(['job']).agg({'credit_amount': ['min', 'max'], 'age': 'mean'})"
   ]
  },
  {
   "cell_type": "code",
   "execution_count": null,
   "id": "16ad5423",
   "metadata": {},
   "outputs": [],
   "source": [
    "job_count = df[['job', 'target']].groupby(['job', 'target']).agg({'target': 'count'})\n",
    "\n",
    "job_percent = job_count.groupby(level=0).apply(lambda x:\n",
    "                                                 100 * x / float(x.sum()))\n",
    "job_percent"
   ]
  },
  {
   "cell_type": "code",
   "execution_count": null,
   "id": "a4deeb04",
   "metadata": {},
   "outputs": [],
   "source": [
    "df.groupby(['job', 'target'])['job'].count().unstack('target').fillna(0).plot(kind='bar', stacked=True)\n"
   ]
  },
  {
   "cell_type": "code",
   "execution_count": null,
   "id": "bc5e9e8e",
   "metadata": {},
   "outputs": [],
   "source": [
    "df[['target', 'credit_amount']].groupby(['target']).agg({'credit_amount':'mean'}).plot.box()"
   ]
  },
  {
   "cell_type": "code",
   "execution_count": null,
   "id": "9840790a",
   "metadata": {},
   "outputs": [],
   "source": [
    "df[['target', 'credit_amount', 'age']].groupby('target').agg(\n",
    "    min_credit_amount=pd.NamedAgg('credit_amount', 'min'),\n",
    "    max_credit_amount=pd.NamedAgg('credit_amount', 'max'),\n",
    "    average_age=pd.NamedAgg('age', 'mean'))"
   ]
  },
  {
   "cell_type": "code",
   "execution_count": null,
   "id": "8b19175b",
   "metadata": {},
   "outputs": [],
   "source": [
    "df[['duration', 'target']].groupby('target').boxplot()  "
   ]
  },
  {
   "cell_type": "code",
   "execution_count": null,
   "id": "75628651",
   "metadata": {},
   "outputs": [],
   "source": []
  }
 ],
 "metadata": {
  "kernelspec": {
   "display_name": "Python 3.5.7",
   "language": "python",
   "name": "organges"
  },
  "language_info": {
   "codemirror_mode": {
    "name": "ipython",
    "version": 3
   },
   "file_extension": ".py",
   "mimetype": "text/x-python",
   "name": "python",
   "nbconvert_exporter": "python",
   "pygments_lexer": "ipython3",
   "version": "3.7.5"
  }
 },
 "nbformat": 4,
 "nbformat_minor": 5
}
